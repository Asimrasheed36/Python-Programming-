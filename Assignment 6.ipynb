{
 "cells": [
  {
   "cell_type": "code",
   "execution_count": null,
   "metadata": {},
   "outputs": [],
   "source": [
    "# Question 1:\n",
    "\n",
    "# OOP:\n",
    "#     Object-oriented programming is a programming paradigm based on the concept of \"objects\",\n",
    "#     which can contain data, in the form of fields, and code, in the form of procedures"
   ]
  },
  {
   "cell_type": "code",
   "execution_count": null,
   "metadata": {},
   "outputs": [],
   "source": [
    "# Question 2:\n",
    "    \n",
    "# Benefits of OOP:\n",
    "# ---> It provides a clear modular structure for programs which makes it good for defining abstract datatypes in which\n",
    "# implementation details are hidden\n",
    "\n",
    "# --> Objects can also be reused within an across applications. The reuse of software also lowers the cost of development. \n",
    "# More effort is put into the object-oriented analysis and design, which lowers the overall cost of development.\n",
    "\n",
    "# --> It makes software easier to maintain. Since the design is modular, part of the system can be updated in case of \n",
    "# issues without a need to make large-scale changes\n",
    "\n",
    "# --> Reuse also enables faster development. Object-oriented programming languages come with rich libraries of objects,\n",
    "# and code developed during projects is also reusable in future projects.\n",
    "\n",
    "# --> Better Productivity as OOP techniques enforce rules on a programmer that, in the long run, help her get more work done;\n",
    "# finished programs work better, have more features and are easier to read and maintain. "
   ]
  },
  {
   "cell_type": "code",
   "execution_count": null,
   "metadata": {},
   "outputs": [],
   "source": [
    "# Question 3:\n",
    "    \n",
    "# Diference between method and function:\n",
    "# A method in python is somewhat similar to a function, except it is associated with object/classes. \n",
    "# Methods in python are very similar to functions except for two major differences.\n",
    "\n",
    "#     The method is implicitly used for an object for which it is called.\n",
    "\n",
    "#     The method is accessible to data that is contained within the class.\n",
    "    \n",
    "# In short, a method is a function which belongs to an object."
   ]
  },
  {
   "cell_type": "code",
   "execution_count": null,
   "metadata": {},
   "outputs": [],
   "source": [
    "# Question 4:\n",
    "    \n",
    "# Class: A class is a blueprint for creating objects (a particular data structure), providing initial values for state \n",
    "#     (member variables or attributes), and implementations of behavior (member functions or methods). \n",
    "    \n",
    "# Object: Object is an instance of a particular class or subclass with the class's own methods or procedures and \n",
    "#     data variables.\n",
    "    \n",
    "# Attributes are data stored inside a class or instance and represent the state or quality of the class or instance. \n",
    "#     One can think of attributes as noun or adjective. e.g; the color, cost, design etc of a car.\n",
    "    \n",
    "# Behaviour: Behaviour represents the functions or verb of an object e.g; the movement, speed of a car."
   ]
  },
  {
   "cell_type": "code",
   "execution_count": 22,
   "metadata": {},
   "outputs": [
    {
     "name": "stdout",
     "output_type": "stream",
     "text": [
      "This is a alto with model 2016 and yellow\n",
      "\n",
      "\n",
      "This is a corolla with model 2017 and black\n",
      "\n",
      "\n",
      "My best car is picanto\n",
      "\n",
      "\n",
      "The latest model of honda civic is : 2018\n"
     ]
    }
   ],
   "source": [
    "# Question 5:\n",
    "\n",
    "class Car():\n",
    "    def __init__(self,name,model,color,brand,price):  #5 attibutes\n",
    "        self.name = name\n",
    "        self.model = model\n",
    "        self.color = color\n",
    "        self.brand = brand\n",
    "        self.price = price\n",
    "    \n",
    "    def display(self):  #3 methods \n",
    "        print(\"This is a\",self.name,'with model',self.model,'and',self.color)\n",
    "        \n",
    "    def best(self):\n",
    "        print(\"My best car is\",self.name)\n",
    "        \n",
    "    def latest(self):\n",
    "        print(\"The latest model of honda civic is :\", self.model)\n",
    "        \n",
    "a = Car('alto',2016,'yellow','suzuki',215000)\n",
    "b = Car('corolla',2017,'black','toyota',250000)\n",
    "c= Car('picanto',2019,'red','kia',1900000)\n",
    "d= Car('civic',2018,'black','honda',2200000)\n",
    "e= Car('lancer',2015,'blue','mitsibushi',280000)\n",
    "\n",
    "a.display()\n",
    "print('\\n')\n",
    "b.display()\n",
    "print('\\n')\n",
    "c.best()\n",
    "print('\\n')\n",
    "d.latest()"
   ]
  },
  {
   "cell_type": "code",
   "execution_count": null,
   "metadata": {},
   "outputs": [],
   "source": []
  }
 ],
 "metadata": {
  "kernelspec": {
   "display_name": "Python 3",
   "language": "python",
   "name": "python3"
  },
  "language_info": {
   "codemirror_mode": {
    "name": "ipython",
    "version": 3
   },
   "file_extension": ".py",
   "mimetype": "text/x-python",
   "name": "python",
   "nbconvert_exporter": "python",
   "pygments_lexer": "ipython3",
   "version": "3.7.4"
  }
 },
 "nbformat": 4,
 "nbformat_minor": 2
}
