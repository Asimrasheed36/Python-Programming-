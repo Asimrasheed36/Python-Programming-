{
 "cells": [
  {
   "cell_type": "code",
   "execution_count": 7,
   "metadata": {},
   "outputs": [
    {
     "name": "stdout",
     "output_type": "stream",
     "text": [
      "*****My Calculator*****\n",
      "Enter 1st Num: 50\n",
      "Enter 2nd Num: 10\n",
      "Enter an operator: /\n",
      "Answer:  5.0\n"
     ]
    }
   ],
   "source": [
    "#Question 1:\n",
    "\n",
    "print(\"*****My Calculator*****\")\n",
    "num1=float(input(\"Enter 1st Num: \"))\n",
    "num2=float(input(\"Enter 2nd Num: \"))\n",
    "\n",
    "op = input(\"Enter an operator: \")\n",
    "\n",
    "if op == '+':\n",
    "    ans = num1 + num2\n",
    "    print(\"Answer: \",ans)\n",
    "elif op == '-':\n",
    "    ans = num1 - num2\n",
    "    print(\"Answer: \",ans)\n",
    "elif op == '*':\n",
    "    ans = num1 * num2\n",
    "    print(\"Answer: \",ans)\n",
    "elif op == '/':\n",
    "    ans = num1 / num2\n",
    "    print(\"Answer: \",ans)\n",
    "else:\n",
    "    print(\"Wrong Operator\")"
   ]
  },
  {
   "cell_type": "code",
   "execution_count": 84,
   "metadata": {},
   "outputs": [
    {
     "name": "stdout",
     "output_type": "stream",
     "text": [
      "Numeric value\n",
      "Numeric value\n",
      "No Numeric value\n",
      "Numeric value\n",
      "No Numeric value\n"
     ]
    }
   ],
   "source": [
    "# Question 2:\n",
    "\n",
    "list = [1,2,'c',45,'d']\n",
    "for i in list:\n",
    "    if type(i) == int:     #To check the integer\n",
    "        print(\"Numeric value\")\n",
    "    else:\n",
    "        print(\"No Numeric value\")"
   ]
  },
  {
   "cell_type": "code",
   "execution_count": 10,
   "metadata": {},
   "outputs": [
    {
     "name": "stdout",
     "output_type": "stream",
     "text": [
      "{'name': 'Muhammad Asim Khan', 'age': 23, 'profession': 'IT'}\n"
     ]
    }
   ],
   "source": [
    "#Question 3:\n",
    "\n",
    "dict = {\n",
    "    'name' : 'Muhammad Asim Khan',\n",
    "    'age' : 23\n",
    "}\n",
    "dict ['profession'] = 'IT' #Key named profession has been added in dict\n",
    "print (dict)"
   ]
  },
  {
   "cell_type": "code",
   "execution_count": 31,
   "metadata": {},
   "outputs": [
    {
     "name": "stdout",
     "output_type": "stream",
     "text": [
      "Sum of numeric values in dictionary is:  129\n"
     ]
    }
   ],
   "source": [
    "# Question 4:\n",
    "# Without Sum Function\n",
    "\n",
    "my_dict = {\n",
    "    1 : 50,\n",
    "    2 : 44,\n",
    "    3 : 35\n",
    "}\n",
    "sum = 0     #without using sum function and initiating the sum with 0\n",
    "for i in my_dict.values():\n",
    "    sum += i      #sum = sum + i\n",
    "print(\"Sum of numeric values in dictionary is: \", sum)"
   ]
  },
  {
   "cell_type": "code",
   "execution_count": 46,
   "metadata": {},
   "outputs": [
    {
     "name": "stdout",
     "output_type": "stream",
     "text": [
      "Duplicate values are:  [18, 1, 4]\n"
     ]
    }
   ],
   "source": [
    "# Question 5:\n",
    "    \n",
    "list = [1, 5, 18, 95, 18, 4, 56, 1, 4]\n",
    "duplicate_list = []     #To extract duplicate values\n",
    "unique_items = {}    #set used to save unique items\n",
    "for i in list:\n",
    "    if i not in unique_items:\n",
    "        unique_items[i] = 1\n",
    "    else:\n",
    "        if unique_items[i] == 1:\n",
    "            duplicate_list.append(i)    #adding duplicate values in duplicate_list\n",
    "        unique_items[i] += 1\n",
    "print(\"Duplicate values are: \",duplicate_list)"
   ]
  },
  {
   "cell_type": "code",
   "execution_count": 50,
   "metadata": {},
   "outputs": [
    {
     "name": "stdout",
     "output_type": "stream",
     "text": [
      "Enter the key to check: profession\n",
      "Key does not exist in Dictionary\n"
     ]
    }
   ],
   "source": [
    "# Question 6:\n",
    "\n",
    "dict = {\n",
    "    'name' : 'Muhammad Asim Khan',\n",
    "    'age' : 23\n",
    "}\n",
    "x = input(\"Enter the key to check: \")\n",
    "if x in dict.keys():\n",
    "    print(\"Key Exists in Dictionary\")\n",
    "else:\n",
    "    print(\"Key does not exist in Dictionary\")"
   ]
  },
  {
   "cell_type": "code",
   "execution_count": null,
   "metadata": {},
   "outputs": [],
   "source": []
  }
 ],
 "metadata": {
  "kernelspec": {
   "display_name": "Python 3",
   "language": "python",
   "name": "python3"
  },
  "language_info": {
   "codemirror_mode": {
    "name": "ipython",
    "version": 3
   },
   "file_extension": ".py",
   "mimetype": "text/x-python",
   "name": "python",
   "nbconvert_exporter": "python",
   "pygments_lexer": "ipython3",
   "version": "3.7.4"
  }
 },
 "nbformat": 4,
 "nbformat_minor": 2
}
