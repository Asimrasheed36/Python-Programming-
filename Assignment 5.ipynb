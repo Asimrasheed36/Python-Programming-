{
 "cells": [
  {
   "cell_type": "code",
   "execution_count": 1,
   "metadata": {},
   "outputs": [
    {
     "name": "stdout",
     "output_type": "stream",
     "text": [
      "Enter a number: 5\n",
      "The factorial is:  120\n"
     ]
    }
   ],
   "source": [
    "#Question 1:\n",
    "\n",
    "def isFact(n):\n",
    "    if n==0 or n==1: \n",
    "        return 1\n",
    "    else:\n",
    "        return n*isFact(n-1)\n",
    "\n",
    "num = int(input(\"Enter a number: \"))\n",
    "\n",
    "if num < 0:\n",
    "    print(\"Enter the correct number\")\n",
    "else:\n",
    "    print(\"The factorial is: \",isFact(num))"
   ]
  },
  {
   "cell_type": "code",
   "execution_count": 3,
   "metadata": {},
   "outputs": [
    {
     "name": "stdout",
     "output_type": "stream",
     "text": [
      "Enter the text: I lovE PakisTan\n",
      "No. of Upper case characters :  4\n",
      "No. of Lower case Characters :  9\n"
     ]
    }
   ],
   "source": [
    "#Question 2:\n",
    "\n",
    "def string_test(str):\n",
    "    a={\"UPPER_CASE\":0, \"LOWER_CASE\":0}\n",
    "    for i in str:\n",
    "        if i.isupper():\n",
    "           a[\"UPPER_CASE\"]+=1\n",
    "        elif i.islower():\n",
    "           a[\"LOWER_CASE\"]+=1\n",
    "        else:\n",
    "           pass\n",
    "    print (\"No. of Upper case characters : \", a[\"UPPER_CASE\"])\n",
    "    print (\"No. of Lower case Characters : \", a[\"LOWER_CASE\"])\n",
    " \n",
    "s = input(\"Enter the text: \")\n",
    "string_test(s)"
   ]
  },
  {
   "cell_type": "code",
   "execution_count": 5,
   "metadata": {},
   "outputs": [
    {
     "name": "stdout",
     "output_type": "stream",
     "text": [
      "Please enter the Total Number of List Elements: 4\n",
      "Please enter the Value of Element : 31\n",
      "Please enter the Value of Element : 16\n",
      "Please enter the Value of Element : 108\n",
      "Please enter the Value of Element : 99\n",
      "\n",
      "Even Numbers in this List are : \n",
      "16 108 "
     ]
    }
   ],
   "source": [
    "#Question 3:\n",
    "\n",
    "def even_numbers(NumList):\n",
    "    for j in range(Number):\n",
    "        if(NumList[j] % 2 == 0):\n",
    "            print(NumList[j], end = ' ')\n",
    "\n",
    "      \n",
    "NumList = []\n",
    "Number = int(input(\"Please enter the Total Number of List Elements: \"))\n",
    "for i in range(1, Number + 1):\n",
    "    value = int(input(\"Please enter the Value of Element : \"))\n",
    "    NumList.append(value)\n",
    "\n",
    "print(\"\\nEven Numbers in this List are : \")\n",
    "even_numbers(NumList)"
   ]
  },
  {
   "cell_type": "code",
   "execution_count": 7,
   "metadata": {},
   "outputs": [
    {
     "name": "stdout",
     "output_type": "stream",
     "text": [
      "Enter string:lol\n",
      "String is a palindrome!\n"
     ]
    }
   ],
   "source": [
    "#Question 4:\n",
    "\n",
    "def is_palindrome(s):\n",
    "    if len(s) < 1:\n",
    "        return True\n",
    "    else:\n",
    "        if s[0] == s[-1]:\n",
    "            return is_palindrome(s[1:-1])\n",
    "        else:\n",
    "            return False\n",
    "a=input(\"Enter string:\")\n",
    "if(is_palindrome(a)==True):\n",
    "    print(\"String is a palindrome!\")\n",
    "else:\n",
    "    print(\"String isn't a palindrome!\")"
   ]
  },
  {
   "cell_type": "code",
   "execution_count": 8,
   "metadata": {},
   "outputs": [
    {
     "name": "stdout",
     "output_type": "stream",
     "text": [
      "Enter the number you want to check: 31\n",
      "It is a prime number\n"
     ]
    }
   ],
   "source": [
    "#Question 5:\n",
    "\n",
    "def isPrime(n):\n",
    "    if n < 2:\n",
    "        print(\"Prime Number starts from 2\")\n",
    "    else:\n",
    "        for i in range(2,n):\n",
    "            if n%i==0:\n",
    "                print(\"Number is not a prime number\")\n",
    "                break\n",
    "        else:\n",
    "            print(\"It is a prime number\")\n",
    "                \n",
    "a = int(input(\"Enter the number you want to check: \"))\n",
    "isPrime(a)"
   ]
  },
  {
   "cell_type": "code",
   "execution_count": 9,
   "metadata": {},
   "outputs": [
    {
     "name": "stdout",
     "output_type": "stream",
     "text": [
      "Enter the list size : 4\n",
      "Enter item at location 0 :\n",
      "Mangoes\n",
      "Enter item at location 1 :\n",
      "Bananas\n",
      "Enter item at location 2 :\n",
      "Potatoes\n",
      "Enter item at location 3 :\n",
      "Meat\n",
      "Items are:  (['Mangoes', 'Bananas', 'Potatoes', 'Meat'],)\n"
     ]
    }
   ],
   "source": [
    "#Question 6:\n",
    "\n",
    "def market(*list):   # * for passing arbitrary arguments\n",
    "    for i in list:\n",
    "        print(\"Items are: \",list)\n",
    "    \n",
    "list = []\n",
    "n = int(input(\"Enter the list size : \"))\n",
    "for i in range(0, n):\n",
    "    print(\"Enter item at location\", i, \":\")\n",
    "    item = input()\n",
    "    list.append(item)\n",
    "    \n",
    "market(list)\n"
   ]
  },
  {
   "cell_type": "code",
   "execution_count": null,
   "metadata": {},
   "outputs": [],
   "source": []
  }
 ],
 "metadata": {
  "kernelspec": {
   "display_name": "Python 3",
   "language": "python",
   "name": "python3"
  },
  "language_info": {
   "codemirror_mode": {
    "name": "ipython",
    "version": 3
   },
   "file_extension": ".py",
   "mimetype": "text/x-python",
   "name": "python",
   "nbconvert_exporter": "python",
   "pygments_lexer": "ipython3",
   "version": "3.7.4"
  }
 },
 "nbformat": 4,
 "nbformat_minor": 2
}
