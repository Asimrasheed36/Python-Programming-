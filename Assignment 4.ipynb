{
 "cells": [
  {
   "cell_type": "code",
   "execution_count": 3,
   "metadata": {},
   "outputs": [
    {
     "name": "stdout",
     "output_type": "stream",
     "text": [
      "{'first_name': 'Asim', 'last_name': 'khan', 'age': 23, 'city': 'karachi'}\n",
      "Asim\n",
      "khan\n",
      "23\n",
      "karachi\n",
      "\n",
      "\n",
      "Key : first_name  and value is : Asim\n",
      "Key : last_name  and value is : khan\n",
      "Key : age  and value is : 23\n",
      "Key : city  and value is : karachi\n",
      "\n",
      "\n",
      "After adding new key value pair: \n",
      " {'first_name': 'Asim', 'last_name': 'khan', 'age': 23, 'city': 'karachi', 'Qualification': 'High Academic Level'}\n",
      "\n",
      "After deleting Qualification key value pair\n",
      " {'first_name': 'Asim', 'last_name': 'khan', 'age': 23, 'city': 'karachi'}\n"
     ]
    }
   ],
   "source": [
    "#Question 1:\n",
    "\n",
    "dict = { 'first_name' : 'Asim',\n",
    "        'last_name' : 'khan',\n",
    "        'age' : 23,\n",
    "        'city' : 'karachi'\n",
    "       }\n",
    "print(dict)                     #for printing the whole dictionary\n",
    "\n",
    "#for printing a single value of the key from a dictionary\n",
    "print(dict['first_name'])  \n",
    "print(dict['last_name'])\n",
    "print(dict['age'])\n",
    "print(dict['city'])\n",
    "\n",
    "print('\\n')  \n",
    "\n",
    "for i,j in dict.items():\n",
    "    print('Key :', i ,' and value is :' , j)   #for printing key valyue pairs from a dictionary\n",
    "\n",
    "print('\\n')\n",
    "\n",
    "dict['Qualification'] = 'High Academic Level'    #adding and updating a new key value pair\n",
    "print('After adding new key value pair: ' '\\n',dict) \n",
    "\n",
    "del dict['Qualification']   #deleting a newly added key value pair\n",
    "print('\\n''After deleting Qualification key value pair''\\n',dict)\n"
   ]
  },
  {
   "cell_type": "code",
   "execution_count": 21,
   "metadata": {},
   "outputs": [
    {
     "name": "stdout",
     "output_type": "stream",
     "text": [
      "{'Karachi': {'Country': 'Pakistan', 'Population': '14.91 million', 'Fact': ' Most populous city in Pakistan'}, 'Paris': {'Country': 'France', 'Population': '2.141 million', 'Fact': 'Eiffel Tower is present there'}, 'Sydney': {'Country': 'Australia', 'Population': '5.23 million', 'Fact': 'Sydney has the deepest natural harbour'}}\n",
      "\n",
      "\n",
      "Karachi {'Country': 'Pakistan', 'Population': '14.91 million', 'Fact': ' Most populous city in Pakistan'}\n",
      "Paris {'Country': 'France', 'Population': '2.141 million', 'Fact': 'Eiffel Tower is present there'}\n",
      "Sydney {'Country': 'Australia', 'Population': '5.23 million', 'Fact': 'Sydney has the deepest natural harbour'}\n"
     ]
    }
   ],
   "source": [
    "#Question 2:\n",
    "\n",
    "cities = {\n",
    "    'Karachi': {'Country': 'Pakistan' , 'Population' : '14.91 million', 'Fact' : ' Most populous city in Pakistan'},\n",
    "    'Paris': {'Country': 'France', 'Population' : '2.141 million', 'Fact' :  'Eiffel Tower is present there'},\n",
    "    'Sydney': {'Country': 'Australia' , 'Population' : '5.23 million', 'Fact': 'Sydney has the deepest natural harbour'}\n",
    "    }\n",
    "print(cities) #for printing the whole dictionary\n",
    "print('\\n')\n",
    "\n",
    "#for printing the the information of a each city\n",
    "print(\"Karachi\",cities[\"Karachi\"])  \n",
    "print(\"Paris\",cities[\"Paris\"])\n",
    "print(\"Sydney\",cities[\"Sydney\"])"
   ]
  },
  {
   "cell_type": "code",
   "execution_count": 13,
   "metadata": {},
   "outputs": [
    {
     "name": "stdout",
     "output_type": "stream",
     "text": [
      "\n",
      "Enter your age: \n",
      "Enter quit when you are finished 5\n",
      "\n",
      "Your ticket cost is $10\n",
      "\n",
      "Enter your age: \n",
      "Enter quit when you are finished 2\n",
      "\n",
      "You don't have to pay for the ticket. It is free for you\n",
      "\n",
      "Enter your age: \n",
      "Enter quit when you are finished 16\n",
      "\n",
      "Your ticket cost is $15\n",
      "\n",
      "Enter your age: \n",
      "Enter quit when you are finished quit\n"
     ]
    }
   ],
   "source": [
    "#Question 3:\n",
    "\n",
    "prompt =  \"\\nEnter your age: \"\n",
    "prompt += \"\\nEnter quit when you are finished \"   \n",
    "\n",
    "while True:\n",
    "    age = input(prompt)\n",
    "    if age == 'quit':     #to stop or getting out of the while loop using break\n",
    "        break\n",
    "    age = int(age)\n",
    "    \n",
    "    if age < 3:\n",
    "        print(\"\\nYou don't have to pay for the ticket. It is free for you\")\n",
    "    elif age >= 3 and age <= 12:\n",
    "        print(\"\\nYour ticket cost is $10\")\n",
    "    else:\n",
    "        print(\"\\nYour ticket cost is $15\")"
   ]
  },
  {
   "cell_type": "code",
   "execution_count": 14,
   "metadata": {},
   "outputs": [
    {
     "name": "stdout",
     "output_type": "stream",
     "text": [
      "Enter your favorite book: Alice in Wonderland\n",
      "One of my favorite books is Alice in Wonderland\n"
     ]
    }
   ],
   "source": [
    "#Question 4:\n",
    "\n",
    "def favorite_book(title):\n",
    "    print(\"One of my favorite books is \"+title)\n",
    "\n",
    "title = input(\"Enter your favorite book: \")\n",
    "favorite_book(title)"
   ]
  },
  {
   "cell_type": "code",
   "execution_count": 16,
   "metadata": {},
   "outputs": [
    {
     "name": "stdout",
     "output_type": "stream",
     "text": [
      "I am thinking of a number between 1 and 30.\n",
      "Take a guess.\n",
      "25\n",
      "\n",
      "Your guess is too high.\n",
      "Take a guess.\n",
      "12\n",
      "\n",
      "Your guess is too high.\n",
      "Take a guess.\n",
      "10\n",
      "\n",
      "Your guess is too high.\n",
      "\n",
      "Sorry, out of guesses. The number I was thinking of is 3\n"
     ]
    }
   ],
   "source": [
    "#Question :\n",
    "\n",
    "import random     #random module is used to generate the random numbers\n",
    "guessesTaken = 1\n",
    "\n",
    "number = random.randint(1, 30)    #generate random numbers in the range of 1 to 30\n",
    "print('I am thinking of a number between 1 and 30.')\n",
    "\n",
    "while guessesTaken <= 3:    #No of allowed guesses are 3\n",
    "    print('Take a guess.') \n",
    "    guess = input()\n",
    "    guess = int(guess)\n",
    "    guessesTaken = guessesTaken + 1\n",
    "\n",
    "    if guess < number:\n",
    "        print('\\nYour guess is too low.') \n",
    "\n",
    "    if guess > number:\n",
    "        print('\\nYour guess is too high.')\n",
    "\n",
    "    if guess == number:\n",
    "        break\n",
    "\n",
    "if guess == number:\n",
    "    guessesTaken = str(guessesTaken)\n",
    "    print(\"\\nWell done,! You guessed correctly in\" + guessesTaken + \"guesses\")\n",
    "\n",
    "if guess != number:   #if number can't be guessed within 3 attempts\n",
    "    number = str(number)\n",
    "    print(\"\\nSorry, out of guesses. The number I was thinking of is \" + number)"
   ]
  },
  {
   "cell_type": "code",
   "execution_count": null,
   "metadata": {},
   "outputs": [],
   "source": []
  }
 ],
 "metadata": {
  "kernelspec": {
   "display_name": "Python 3",
   "language": "python",
   "name": "python3"
  },
  "language_info": {
   "codemirror_mode": {
    "name": "ipython",
    "version": 3
   },
   "file_extension": ".py",
   "mimetype": "text/x-python",
   "name": "python",
   "nbconvert_exporter": "python",
   "pygments_lexer": "ipython3",
   "version": "3.7.4"
  }
 },
 "nbformat": 4,
 "nbformat_minor": 2
}
