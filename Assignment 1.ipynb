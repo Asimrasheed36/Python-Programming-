{
 "cells": [
  {
   "cell_type": "code",
   "execution_count": 5,
   "metadata": {},
   "outputs": [
    {
     "name": "stdout",
     "output_type": "stream",
     "text": [
      "Twinkle, twinkle, little star,\n",
      "     How I wonder what you are!\n",
      "           Up above the world so high,\n",
      "           Like a diamond in the sky.\n",
      "Twinkle, twinkle, little star,\n",
      "     How I wonder what you are!\n"
     ]
    }
   ],
   "source": [
    "#Question no.1\n",
    "\n",
    "print(\"Twinkle, twinkle, little star,\")\n",
    "print(\"     How I wonder what you are!\")   \n",
    "print(\"           Up above the world so high,\")\n",
    "print(\"           Like a diamond in the sky.\")\n",
    "print(\"Twinkle, twinkle, little star,\")\n",
    "print(\"     How I wonder what you are!\")"
   ]
  },
  {
   "cell_type": "code",
   "execution_count": 6,
   "metadata": {},
   "outputs": [
    {
     "name": "stdout",
     "output_type": "stream",
     "text": [
      "3.7.4 (default, Aug  9 2019, 18:22:51) [MSC v.1915 32 bit (Intel)]\n"
     ]
    }
   ],
   "source": [
    "#Question no 2\n",
    "\n",
    "#using sys module\n",
    "import sys\n",
    "print(sys.version)"
   ]
  },
  {
   "cell_type": "code",
   "execution_count": 1,
   "metadata": {},
   "outputs": [
    {
     "name": "stdout",
     "output_type": "stream",
     "text": [
      "date and time = 03/11/2019 19:19:29\n"
     ]
    }
   ],
   "source": [
    "#Question no 3\n",
    "\n",
    "#datetime library is used to get the systems date and time\n",
    "from datetime import datetime\n",
    "# datetime object containing current date and time\n",
    "now = datetime.now()\n",
    " \n",
    "# print(\"now =\", now)\n",
    "# dd/mm/YY H:M:S\n",
    "a = now.strftime(\"%d/%m/%Y %H:%M:%S\")\n",
    "print(\"date and time =\", a)"
   ]
  },
  {
   "cell_type": "code",
   "execution_count": 3,
   "metadata": {},
   "outputs": [
    {
     "name": "stdout",
     "output_type": "stream",
     "text": [
      "Enter the radius of the cirlce: 5.5\n",
      "Area of a circle is:  94.985\n"
     ]
    }
   ],
   "source": [
    "#Question no 4\n",
    "\n",
    "#considering value of r can be in decimals too\n",
    "r = float(input (\"Enter the radius of the cirlce: \"))\n",
    "pi=3.14\n",
    "area = pi * r * r\n",
    "print (\"Area of a circle is: \",area)"
   ]
  },
  {
   "cell_type": "code",
   "execution_count": 4,
   "metadata": {},
   "outputs": [
    {
     "name": "stdout",
     "output_type": "stream",
     "text": [
      "Enter First Name : Muhammad\n",
      "Enter Last Name : Asim\n",
      "Asim Muhammad\n"
     ]
    }
   ],
   "source": [
    "#Question no 5\n",
    "\n",
    "firstName = input(\"Enter First Name : \")\n",
    "lastName = input(\"Enter Last Name : \")\n",
    "print (lastName + \" \" + firstName)"
   ]
  },
  {
   "cell_type": "code",
   "execution_count": 5,
   "metadata": {},
   "outputs": [
    {
     "name": "stdout",
     "output_type": "stream",
     "text": [
      "Enter 1st: 20\n",
      "Enter 2nd: 52\n",
      "72\n"
     ]
    }
   ],
   "source": [
    "#Question no 6\n",
    "\n",
    "#if the numbers are integers\n",
    "a = int(input(\"Enter 1st: \"))\n",
    "b = int(input(\"Enter 2nd: \"))\n",
    "c = a + b\n",
    "print(c)"
   ]
  },
  {
   "cell_type": "code",
   "execution_count": 6,
   "metadata": {},
   "outputs": [
    {
     "name": "stdout",
     "output_type": "stream",
     "text": [
      "Enter 1st: 25.2\n",
      "Enter 2nd: 30.7\n",
      "55.9\n"
     ]
    }
   ],
   "source": [
    "#Another approach for Question 6\n",
    "\n",
    "#if the user input can be float\n",
    "a = float(input(\"Enter 1st: \"))\n",
    "b = float(input(\"Enter 2nd: \"))\n",
    "c = a + b\n",
    "print(c)"
   ]
  },
  {
   "cell_type": "code",
   "execution_count": null,
   "metadata": {},
   "outputs": [],
   "source": []
  }
 ],
 "metadata": {
  "kernelspec": {
   "display_name": "Python 3",
   "language": "python",
   "name": "python3"
  },
  "language_info": {
   "codemirror_mode": {
    "name": "ipython",
    "version": 3
   },
   "file_extension": ".py",
   "mimetype": "text/x-python",
   "name": "python",
   "nbconvert_exporter": "python",
   "pygments_lexer": "ipython3",
   "version": "3.7.4"
  }
 },
 "nbformat": 4,
 "nbformat_minor": 2
}
