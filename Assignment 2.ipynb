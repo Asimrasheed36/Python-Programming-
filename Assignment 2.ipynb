{
 "cells": [
  {
   "cell_type": "code",
   "execution_count": 1,
   "metadata": {},
   "outputs": [
    {
     "name": "stdout",
     "output_type": "stream",
     "text": [
      "****Marksheet****\n",
      "Enter Computer Marks: 85\n",
      "Enter Maths Marks: 89\n",
      "Enter Urdu Marks: 90\n",
      "Enter English Marks: 81\n",
      "Enter Chemistry Marks: 95\n",
      "88.0\n",
      "Congratulations! You got A+\n"
     ]
    }
   ],
   "source": [
    "#Question 1:\n",
    "\n",
    "print(\"****Marksheet****\")\n",
    "Comp = int(input(\"Enter Computer Marks: \"))\n",
    "Maths = int(input(\"Enter Maths Marks: \"))\n",
    "Urdu = int(input(\"Enter Urdu Marks: \"))\n",
    "Eng = int(input(\"Enter English Marks: \"))\n",
    "Chem = int(input(\"Enter Chemistry Marks: \"))\n",
    "a = Comp + Maths + Urdu + Eng + Chem\n",
    "Per = (a/500)*100\n",
    "print (Per)\n",
    "if Per >= 80 and Per <= 100:\n",
    "    print(\"Congratulations! You got A+\")\n",
    "elif Per >= 70 and Per < 80:\n",
    "    print(\"Your grade is A\")\n",
    "elif Per >= 60 and Per < 70:\n",
    "    print(\"Yor grade is B\")\n",
    "elif Per >= 50 and Per < 60:\n",
    "    print (\"Your grade is C\")\n",
    "elif Per >= 40 and Per < 50:\n",
    "    print (\"Your grade is D\")\n",
    "elif Per >= 33 and Per < 40:\n",
    "    print (\"Your grade is E\")\n",
    "else:\n",
    "    print (\"You are Failed\")"
   ]
  },
  {
   "cell_type": "code",
   "execution_count": 2,
   "metadata": {},
   "outputs": [
    {
     "name": "stdout",
     "output_type": "stream",
     "text": [
      "Enter a number: 25\n",
      "It is Odd\n"
     ]
    }
   ],
   "source": [
    "#Question 2:\n",
    "\n",
    "a = int(input(\"Enter a number: \"))\n",
    "if a%2 == 0:\n",
    "    print(\"It is Even\")\n",
    "else:\n",
    "    print(\"It is Odd\")"
   ]
  },
  {
   "cell_type": "code",
   "execution_count": 3,
   "metadata": {},
   "outputs": [
    {
     "name": "stdout",
     "output_type": "stream",
     "text": [
      "5\n"
     ]
    }
   ],
   "source": [
    "#Question 3:\n",
    "\n",
    "list = [1,6,'Pakistan',586,'Australia']\n",
    "print(len(list))"
   ]
  },
  {
   "cell_type": "code",
   "execution_count": 4,
   "metadata": {},
   "outputs": [
    {
     "name": "stdout",
     "output_type": "stream",
     "text": [
      "Enter Number of Elements: 4\n",
      "Enter the Numbers: 26\n",
      "Enter the Numbers: 71\n",
      "Enter the Numbers: 29\n",
      "Enter the Numbers: 34\n",
      "Sum of Numbers:  160\n"
     ]
    }
   ],
   "source": [
    "#Question4:\n",
    "#using Sum Function\n",
    "\n",
    "list = []\n",
    "n = int(input(\"Enter Number of Elements: \"))\n",
    "for i in range(n):\n",
    "    num = (int(input(\"Enter the Numbers: \")))\n",
    "    list.append(num)\n",
    "print (\"Sum of Numbers: \",sum(list))"
   ]
  },
  {
   "cell_type": "code",
   "execution_count": 5,
   "metadata": {},
   "outputs": [
    {
     "name": "stdout",
     "output_type": "stream",
     "text": [
      "Enter Number of Elements: 5\n",
      "Enter the Numbers: 20\n",
      "Enter the Numbers: 25\n",
      "Enter the Numbers: 24\n",
      "Enter the Numbers: 39\n",
      "Enter the Numbers: 45\n",
      "Sum of Numbers:  153\n"
     ]
    }
   ],
   "source": [
    "#Question 4:\n",
    "#Without using sum function\n",
    "\n",
    "list = []\n",
    "n = int(input(\"Enter Number of Elements: \"))\n",
    "s = 0\n",
    "for i in range(n):\n",
    "    num = (int(input(\"Enter the Numbers: \")))\n",
    "    list.append(num)\n",
    "    s = s+num\n",
    "print(\"Sum of Numbers: \",s)"
   ]
  },
  {
   "cell_type": "code",
   "execution_count": 9,
   "metadata": {},
   "outputs": [
    {
     "name": "stdout",
     "output_type": "stream",
     "text": [
      "Enter number of elements in list: 4\n",
      "Enter the numbers: 150\n",
      "Enter the numbers: 165\n",
      "Enter the numbers: 142\n",
      "Enter the numbers: 195\n",
      "Largest number in List:  195\n"
     ]
    }
   ],
   "source": [
    "#Question 5:\n",
    "\n",
    "myList = []\n",
    "n = int(input(\"Enter number of elements in list: \"))\n",
    "for i in range(1,n+1):\n",
    "    a = int(input(\"Enter the numbers: \"))\n",
    "    myList.append(a)\n",
    "    \n",
    "print (\"Largest number in List: \", max(myList))"
   ]
  },
  {
   "cell_type": "code",
   "execution_count": 10,
   "metadata": {},
   "outputs": [
    {
     "name": "stdout",
     "output_type": "stream",
     "text": [
      "[1, 1, 2, 3]\n"
     ]
    }
   ],
   "source": [
    "#Question 6:\n",
    "\n",
    "list = [1, 1, 2, 3, 5, 8, 13, 21, 34, 55, 89]\n",
    "new_list = []\n",
    "\n",
    "for item in list:\n",
    "    if item < 5:\n",
    "        new_list.append(item)\n",
    "print(new_list)"
   ]
  },
  {
   "cell_type": "code",
   "execution_count": null,
   "metadata": {},
   "outputs": [],
   "source": []
  }
 ],
 "metadata": {
  "kernelspec": {
   "display_name": "Python 3",
   "language": "python",
   "name": "python3"
  },
  "language_info": {
   "codemirror_mode": {
    "name": "ipython",
    "version": 3
   },
   "file_extension": ".py",
   "mimetype": "text/x-python",
   "name": "python",
   "nbconvert_exporter": "python",
   "pygments_lexer": "ipython3",
   "version": "3.7.4"
  }
 },
 "nbformat": 4,
 "nbformat_minor": 2
}
